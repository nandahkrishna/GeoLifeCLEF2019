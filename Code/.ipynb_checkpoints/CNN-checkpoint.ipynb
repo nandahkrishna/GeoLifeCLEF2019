{
 "cells": [
  {
   "cell_type": "code",
   "execution_count": 1,
   "metadata": {},
   "outputs": [],
   "source": [
    "import numpy as np\n",
    "import pandas as pd\n",
    "import matplotlib.pyplot as plt\n",
    "import time\n",
    "import os\n",
    "os.environ['KMP_DUPLICATE_LIB_OK']='True'\n",
    "import copy\n",
    "from environmental_raster_glc import PatchExtractor\n",
    "import tensorflow as tf\n",
    "from tensorflow.keras.models import Sequential\n",
    "from tensorflow.keras.layers import Conv2D, MaxPooling2D, Flatten, Dense\n",
    "from tensorflow.keras.preprocessing.image import ImageDataGenerator\n",
    "from sklearn.preprocessing import StandardScaler"
   ]
  },
  {
   "cell_type": "code",
   "execution_count": 39,
   "metadata": {},
   "outputs": [
    {
     "name": "stdout",
     "output_type": "stream",
     "text": [
      "_________________________________________________________________\n",
      "Layer (type)                 Output Shape              Param #   \n",
      "=================================================================\n",
      "conv2d_9 (Conv2D)            (None, 7, 7, 128)         6784      \n",
      "_________________________________________________________________\n",
      "conv2d_10 (Conv2D)           (None, 6, 6, 128)         65664     \n",
      "_________________________________________________________________\n",
      "max_pooling2d_3 (MaxPooling2 (None, 5, 5, 128)         0         \n",
      "_________________________________________________________________\n",
      "conv2d_11 (Conv2D)           (None, 4, 4, 64)          32832     \n",
      "_________________________________________________________________\n",
      "flatten_2 (Flatten)          (None, 1024)              0         \n",
      "_________________________________________________________________\n",
      "dense_10 (Dense)             (None, 2000)              2050000   \n",
      "_________________________________________________________________\n",
      "dense_11 (Dense)             (None, 2000)              4002000   \n",
      "_________________________________________________________________\n",
      "dense_12 (Dense)             (None, 2000)              4002000   \n",
      "_________________________________________________________________\n",
      "dense_13 (Dense)             (None, 2000)              4002000   \n",
      "_________________________________________________________________\n",
      "dense_14 (Dense)             (None, 1348)              2697348   \n",
      "=================================================================\n",
      "Total params: 16,858,628\n",
      "Trainable params: 16,858,628\n",
      "Non-trainable params: 0\n",
      "_________________________________________________________________\n"
     ]
    }
   ],
   "source": [
    "model = Sequential()\n",
    "model.add(Conv2D(128, kernel_size = 2, input_shape = (8, 8, 13), activation = 'relu'))\n",
    "model.add(Conv2D(128, kernel_size = 2, activation = 'relu')) \n",
    "model.add(MaxPooling2D(pool_size = 2, strides = 1))\n",
    "model.add(Conv2D(64, kernel_size = 2, activation = 'relu'))\n",
    "model.add(MaxPooling2D(pool_size = 2, strides = 2))\n",
    "model.add(Flatten())\n",
    "model.add(Dense(units = 256, activation = 'relu'))\n",
    "model.add(Dense(units = 256, activation = 'relu'))\n",
    "model.add(Dense(units = 1348, activation = 'softmax'))\n",
    "model.compile(optimizer = 'adam', loss = 'categorical_crossentropy', metrics = ['accuracy'])\n",
    "model.summary()"
   ]
  },
  {
   "cell_type": "code",
   "execution_count": 25,
   "metadata": {},
   "outputs": [],
   "source": [
    "def fit_and_predict(X_train, y_train, Xtest, y_test):\n",
    "    global model\n",
    "    \n",
    "    model.fit(x = X_train, y = y_train, epochs = 1, batch_size = 2000)\n",
    "    (loss, accuracy) = model.evaluate(x = X_test, y = y_test)\n",
    "    print('Loss: {} Accuracy: {}'.format(loss, accuracy * 100))\n",
    "    \n",
    "class GeoLifeClefDataset:\n",
    "    def __init__(self, extractor, dataset, labels):\n",
    "        self.extractor = extractor\n",
    "        self.labels = labels\n",
    "        self.dataset = dataset\n",
    "    def __len__(self):\n",
    "        return len(self.labels)\n",
    "    def __getitem__(self, idx):\n",
    "        tensor = self.extractor[self.dataset[idx]]\n",
    "        return tensor, self.labels[idx]"
   ]
  },
  {
   "cell_type": "code",
   "execution_count": 20,
   "metadata": {
    "scrolled": false
   },
   "outputs": [
    {
     "name": "stdout",
     "output_type": "stream",
     "text": [
      "Adding: alti\n",
      "Adding: awc_top\n",
      "Adding: bs_top\n",
      "Adding: chbio_1\n",
      "Adding: chbio_10\n",
      "Adding: chbio_11\n",
      "Adding: chbio_17\n",
      "Adding: chbio_18\n",
      "Adding: chbio_19\n",
      "Adding: chbio_2\n",
      "Adding: chbio_3\n",
      "Adding: erodi\n",
      "Adding: etp\n"
     ]
    }
   ],
   "source": [
    "patch_extractor = PatchExtractor('../rasters GLC19', size=8, verbose=True)\n",
    "patch_extractor.append(\"alti\")\n",
    "patch_extractor.append(\"awc_top\")\n",
    "patch_extractor.append(\"bs_top\")\n",
    "patch_extractor.append(\"chbio_1\")\n",
    "patch_extractor.append(\"chbio_10\")\n",
    "patch_extractor.append(\"chbio_11\")\n",
    "patch_extractor.append(\"chbio_17\")\n",
    "patch_extractor.append(\"chbio_18\")\n",
    "patch_extractor.append(\"chbio_19\")\n",
    "patch_extractor.append(\"chbio_2\")\n",
    "patch_extractor.append(\"chbio_3\")\n",
    "patch_extractor.append(\"erodi\")\n",
    "patch_extractor.append(\"etp\")\n",
    "# dataset\n",
    "df = pd.read_csv(\"../PL_trusted.csv\",sep=';')\n",
    "classes = set(df['glc19SpId'])\n",
    "df = pd.concat([df.drop('glc19SpId',axis=1),pd.get_dummies(df['glc19SpId'],dtype=int)], axis=1)\n",
    "dataset_list = list(zip(df[\"Latitude\"],df[\"Longitude\"]))\n",
    "labels_list = (df.iloc[:, 10:]).values\n",
    "train_ds = GeoLifeClefDataset(patch_extractor, dataset_list[:230000], labels_list[:230000])\n",
    "test_ds = GeoLifeClefDataset(patch_extractor, dataset_list[230000:], labels_list[230000:])\n",
    "datasets = {\"train\": train_ds, \"val\": test_ds}\n",
    "X_train, y_train, X_test, y_test = [], [], [], []\n",
    "for i in range(len(train_ds)):\n",
    "    X_train.append(train_ds[i][0])\n",
    "    y_train.append(train_ds[i][1])\n",
    "for i in range(len(test_ds)):\n",
    "    X_test.append(test_ds[i][0])\n",
    "    y_test.append(test_ds[i][1])"
   ]
  },
  {
   "cell_type": "code",
   "execution_count": 21,
   "metadata": {},
   "outputs": [],
   "source": [
    "X_train, y_train, X_test, y_test = np.array(X_train), np.array(y_train), np.array(X_test), np.array(y_test)    \n",
    "X_train = np.reshape(X_train, (len(X_train),8,8,13))\n",
    "X_test = np.reshape(X_test, (len(X_test),8,8,13))"
   ]
  },
  {
   "cell_type": "code",
   "execution_count": 26,
   "metadata": {},
   "outputs": [
    {
     "name": "stdout",
     "output_type": "stream",
     "text": [
      "230000/230000 [==============================] - 273s 1ms/sample - loss: 15.8997 - acc: 0.0136\n",
      "6533/6533 [==============================] - 6s 878us/sample - loss: 15.8689 - acc: 0.0155\n",
      "Loss: 15.868909969239327 Accuracy: 1.545997243374586\n"
     ]
    }
   ],
   "source": [
    "fit_and_predict(X_train, y_train, X_test, y_test)\n",
    "model.save('CNN_Model.h5')"
   ]
  },
  {
   "cell_type": "code",
   "execution_count": 28,
   "metadata": {},
   "outputs": [],
   "source": [
    "class GeoLifeClefDatasetP:\n",
    "    def __init__(self, extractor, dataset):\n",
    "        self.extractor = extractor\n",
    "        self.dataset = dataset\n",
    "    def __len__(self):\n",
    "        return len(self.dataset)\n",
    "    def __getitem__(self, idx):\n",
    "        tensor = self.extractor[self.dataset[idx]]\n",
    "        return tensor\n",
    "df = pd.read_csv(\"../testSet.csv\",sep=';')\n",
    "X_pred = []\n",
    "dataset_list = list(zip(df[\"Latitude\"],df[\"Longitude\"]))\n",
    "pred_ds = GeoLifeClefDatasetP(patch_extractor, dataset_list)\n",
    "for i in range(len(pred_ds)):\n",
    "    X_pred.append(pred_ds[i])\n",
    "X_pred = np.array(X_pred)\n",
    "X_pred = np.reshape(X_pred, (len(X_pred),8,8,13))\n",
    "pred = model.predict(X_pred)"
   ]
  },
  {
   "cell_type": "code",
   "execution_count": 29,
   "metadata": {},
   "outputs": [
    {
     "data": {
      "text/plain": [
       "25000.0"
      ]
     },
     "execution_count": 29,
     "metadata": {},
     "output_type": "execute_result"
    }
   ],
   "source": [
    "sum(list(map(sum, pred)))"
   ]
  },
  {
   "cell_type": "code",
   "execution_count": 30,
   "metadata": {},
   "outputs": [
    {
     "data": {
      "text/plain": [
       "array([0., 0., 0., ..., 0., 0., 0.], dtype=float32)"
      ]
     },
     "execution_count": 30,
     "metadata": {},
     "output_type": "execute_result"
    }
   ],
   "source": [
    "pred[0]"
   ]
  },
  {
   "cell_type": "code",
   "execution_count": null,
   "metadata": {},
   "outputs": [],
   "source": []
  }
 ],
 "metadata": {
  "kernelspec": {
   "display_name": "Python 3",
   "language": "python",
   "name": "python3"
  },
  "language_info": {
   "codemirror_mode": {
    "name": "ipython",
    "version": 3
   },
   "file_extension": ".py",
   "mimetype": "text/x-python",
   "name": "python",
   "nbconvert_exporter": "python",
   "pygments_lexer": "ipython3",
   "version": "3.7.3"
  }
 },
 "nbformat": 4,
 "nbformat_minor": 2
}
